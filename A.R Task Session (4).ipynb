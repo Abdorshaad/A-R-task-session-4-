{
 "cells": [
  {
   "cell_type": "code",
   "execution_count": 1,
   "metadata": {},
   "outputs": [
    {
     "data": {
      "text/plain": [
       "True"
      ]
     },
     "execution_count": 1,
     "metadata": {},
     "output_type": "execute_result"
    }
   ],
   "source": [
    "#-------------------------- \n",
    "# (1) prime number checker.\n",
    "# ------------------------- \n",
    "def is_prime(n):\n",
    "     for i in range(2, n):\n",
    "      if n % i == 0:\n",
    "         return False\n",
    "     return True\n",
    "is_prime(11)"
   ]
  },
  {
   "cell_type": "code",
   "execution_count": 17,
   "metadata": {},
   "outputs": [
    {
     "name": "stdout",
     "output_type": "stream",
     "text": [
      "15\n",
      "5\n",
      "50\n",
      "2.0\n",
      "cannot divide by zero\n"
     ]
    }
   ],
   "source": [
    "#----------------------\n",
    "#(2) costom calculator.\n",
    "# -----------------------\n",
    "def calcu(op , a , b):\n",
    "    if op == \"add\":\n",
    "        return a + b\n",
    "    elif op == \"sub\":\n",
    "        return a - b\n",
    "    elif op == \"multip\":\n",
    "        return a * b\n",
    "    if b != 0:\n",
    "        return a / b\n",
    "    else:\n",
    "        return \"cannot divide by zero\"\n",
    "\n",
    "print(calcu(\"add\",10 , 5))        \n",
    "print(calcu(\"sub\",10 , 5))\n",
    "print(calcu(\"multip\",10 , 5))\n",
    "print(calcu(\"divis\",10 , 5))     \n",
    "print(calcu(\"divis\",10 , 0))      \n",
    "        \n"
   ]
  }
 ],
 "metadata": {
  "kernelspec": {
   "display_name": "Python 3",
   "language": "python",
   "name": "python3"
  },
  "language_info": {
   "codemirror_mode": {
    "name": "ipython",
    "version": 3
   },
   "file_extension": ".py",
   "mimetype": "text/x-python",
   "name": "python",
   "nbconvert_exporter": "python",
   "pygments_lexer": "ipython3",
   "version": "3.13.0"
  }
 },
 "nbformat": 4,
 "nbformat_minor": 2
}
